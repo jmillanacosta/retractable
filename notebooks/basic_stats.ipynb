{
 "cells": [
  {
   "attachments": {},
   "cell_type": "markdown",
   "metadata": {},
   "source": [
    "# Basic Statistics \n",
    "\n",
    "This notebook looks at the most common retraction reasons and generates figures."
   ]
  },
  {
   "cell_type": "code",
   "execution_count": 2,
   "metadata": {},
   "outputs": [],
   "source": [
    "import pandas as pd\n",
    "import json\n",
    "import yaml\n",
    "import numpy as np"
   ]
  },
  {
   "cell_type": "code",
   "execution_count": 3,
   "metadata": {},
   "outputs": [],
   "source": [
    "filepath = \"../data/retractable.json\"\n",
    "with open(filepath, 'r') as fp:\n",
    "    data = json.load(fp)\n",
    "\n",
    "df = pd.DataFrame.from_dict(data[\"retracted_articles\"])\n",
    "# To html\n",
    "df.to_html(\"../docs/_includes/retractable_data.html\")\n",
    "retrieved = df[df['retraction_body'] != \"\"]\n"
   ]
  },
  {
   "attachments": {},
   "cell_type": "markdown",
   "metadata": {},
   "source": [
    "How many articles have a retraction notice?"
   ]
  },
  {
   "cell_type": "code",
   "execution_count": 4,
   "metadata": {},
   "outputs": [
    {
     "name": "stdout",
     "output_type": "stream",
     "text": [
      "47.16% of retracted articles in Europe PMC articles (6862 out of 14549) have an associated retraction notice PMC id from which to extract retraction reasons.\n",
      "35.52% of retraction reasons identified for retracted articles in Europe PMC articles (5168 out of 6862).\n"
     ]
    }
   ],
   "source": [
    "retract_notice = df[df['pmcid'] != \"\"]\n",
    "len_notice = len(retract_notice)\n",
    "len_data = len(df)\n",
    "percentage_notice = round(len_notice/len_data*100, 2)\n",
    "retrieved = df[df['retraction_reason'] != \"\"]\n",
    "percentage_retrieved = round(len(retrieved)/len_data*100,2)\n",
    "print(f\"{percentage_notice}% of retracted articles in Europe PMC articles ({len_notice} out of {len_data}) have an associated retraction notice PMC id from which to extract retraction reasons.\")\n",
    "print(f\"{percentage_retrieved}% of retraction reasons identified for retracted articles in Europe PMC articles ({len(retrieved)} out of {len_notice}).\")"
   ]
  },
  {
   "cell_type": "code",
   "execution_count": 16,
   "metadata": {},
   "outputs": [
    {
     "name": "stdout",
     "output_type": "stream",
     "text": [
      "Average retraction notice length: 618 chars, total chars = 3192905, estimated OpenAI da vinci billing = 14334.029180695848\n"
     ]
    }
   ],
   "source": [
    "total_chars = 0\n",
    "for index, row in retrieved.iterrows():\n",
    "    text = row[\"retraction_body\"]\n",
    "    total_chars += len(text)\n",
    "avg = int(round(total_chars/len(retrieved), 0))\n",
    "print(f\"Average retraction notice length: {avg} chars, total chars = {total_chars}, estimated OpenAI da vinci billing = {total_chars*1000/750*0.02/5.94}\")\n"
   ]
  },
  {
   "cell_type": "code",
   "execution_count": 15,
   "metadata": {},
   "outputs": [
    {
     "data": {
      "text/plain": [
       "5.942857142857143"
      ]
     },
     "execution_count": 15,
     "metadata": {},
     "output_type": "execute_result"
    }
   ],
   "source": [
    "len(\"Multiple models, each with different capabilities and price points. Prices are per 1,000 tokens. You can think of tokens as pieces of words, where 1,000 tokens is about 750 words. This paragraph is 35 tokens.\")/35"
   ]
  },
  {
   "attachments": {},
   "cell_type": "markdown",
   "metadata": {},
   "source": [
    "Which retraction reasons?"
   ]
  },
  {
   "cell_type": "code",
   "execution_count": 7,
   "metadata": {},
   "outputs": [
    {
     "name": "stdout",
     "output_type": "stream",
     "text": [
      "Requirement already satisfied: watermark in /home/javier/miniconda3/lib/python3.9/site-packages (2.3.1)\n",
      "Requirement already satisfied: ipython in /home/javier/miniconda3/lib/python3.9/site-packages (from watermark) (8.4.0)\n",
      "Requirement already satisfied: decorator in /home/javier/miniconda3/lib/python3.9/site-packages (from ipython->watermark) (5.1.1)\n",
      "Requirement already satisfied: jedi>=0.16 in /home/javier/miniconda3/lib/python3.9/site-packages (from ipython->watermark) (0.18.1)\n",
      "Requirement already satisfied: setuptools>=18.5 in /home/javier/miniconda3/lib/python3.9/site-packages (from ipython->watermark) (63.4.1)\n",
      "Requirement already satisfied: pygments>=2.4.0 in /home/javier/miniconda3/lib/python3.9/site-packages (from ipython->watermark) (2.14.0)\n",
      "Requirement already satisfied: traitlets>=5 in /home/javier/miniconda3/lib/python3.9/site-packages (from ipython->watermark) (5.1.1)\n",
      "Requirement already satisfied: prompt-toolkit!=3.0.0,!=3.0.1,<3.1.0,>=2.0.0 in /home/javier/miniconda3/lib/python3.9/site-packages (from ipython->watermark) (3.0.20)\n",
      "Requirement already satisfied: matplotlib-inline in /home/javier/miniconda3/lib/python3.9/site-packages (from ipython->watermark) (0.1.6)\n",
      "Requirement already satisfied: backcall in /home/javier/miniconda3/lib/python3.9/site-packages (from ipython->watermark) (0.2.0)\n",
      "Requirement already satisfied: pexpect>4.3 in /home/javier/miniconda3/lib/python3.9/site-packages (from ipython->watermark) (4.8.0)\n",
      "Requirement already satisfied: stack-data in /home/javier/miniconda3/lib/python3.9/site-packages (from ipython->watermark) (0.2.0)\n",
      "Requirement already satisfied: pickleshare in /home/javier/miniconda3/lib/python3.9/site-packages (from ipython->watermark) (0.7.5)\n",
      "Requirement already satisfied: parso<0.9.0,>=0.8.0 in /home/javier/miniconda3/lib/python3.9/site-packages (from jedi>=0.16->ipython->watermark) (0.8.3)\n",
      "Requirement already satisfied: ptyprocess>=0.5 in /home/javier/miniconda3/lib/python3.9/site-packages (from pexpect>4.3->ipython->watermark) (0.7.0)\n",
      "Requirement already satisfied: wcwidth in /home/javier/miniconda3/lib/python3.9/site-packages (from prompt-toolkit!=3.0.0,!=3.0.1,<3.1.0,>=2.0.0->ipython->watermark) (0.2.5)\n",
      "Requirement already satisfied: asttokens in /home/javier/miniconda3/lib/python3.9/site-packages (from stack-data->ipython->watermark) (2.0.5)\n",
      "Requirement already satisfied: executing in /home/javier/miniconda3/lib/python3.9/site-packages (from stack-data->ipython->watermark) (0.8.3)\n",
      "Requirement already satisfied: pure-eval in /home/javier/miniconda3/lib/python3.9/site-packages (from stack-data->ipython->watermark) (0.2.2)\n",
      "Requirement already satisfied: six in /home/javier/miniconda3/lib/python3.9/site-packages (from asttokens->stack-data->ipython->watermark) (1.16.0)\n",
      "The watermark extension is already loaded. To reload it, use:\n",
      "  %reload_ext watermark\n",
      "Python implementation: CPython\n",
      "Python version       : 3.9.13\n",
      "IPython version      : 8.4.0\n",
      "\n",
      "Compiler    : GCC 11.2.0\n",
      "OS          : Linux\n",
      "Release     : 5.19.0-38-generic\n",
      "Machine     : x86_64\n",
      "Processor   : x86_64\n",
      "CPU cores   : 8\n",
      "Architecture: 64bit\n",
      "\n"
     ]
    }
   ],
   "source": [
    "!{sys.executable} -m pip install watermark\n",
    "%load_ext watermark\n",
    "%watermark -v -m "
   ]
  }
 ],
 "metadata": {
  "kernelspec": {
   "display_name": "base",
   "language": "python",
   "name": "python3"
  },
  "language_info": {
   "codemirror_mode": {
    "name": "ipython",
    "version": 3
   },
   "file_extension": ".py",
   "mimetype": "text/x-python",
   "name": "python",
   "nbconvert_exporter": "python",
   "pygments_lexer": "ipython3",
   "version": "3.9.13"
  },
  "orig_nbformat": 4,
  "vscode": {
   "interpreter": {
    "hash": "267a425285626f162e8dbac0e72a3103fc15fe1856529c1140c5b196b5352764"
   }
  }
 },
 "nbformat": 4,
 "nbformat_minor": 2
}
