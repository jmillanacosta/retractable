{
 "cells": [
  {
   "attachments": {},
   "cell_type": "markdown",
   "metadata": {},
   "source": [
    "# Basic Statistics \n",
    "\n",
    "This notebook looks at the most common retraction reasons and generates figures."
   ]
  },
  {
   "cell_type": "code",
   "execution_count": 1,
   "metadata": {},
   "outputs": [],
   "source": [
    "import pandas as pd\n",
    "import json\n",
    "import yaml\n",
    "import numpy as np"
   ]
  },
  {
   "cell_type": "code",
   "execution_count": 2,
   "metadata": {},
   "outputs": [
    {
     "data": {
      "text/html": [
       "<div>\n",
       "<style scoped>\n",
       "    .dataframe tbody tr th:only-of-type {\n",
       "        vertical-align: middle;\n",
       "    }\n",
       "\n",
       "    .dataframe tbody tr th {\n",
       "        vertical-align: top;\n",
       "    }\n",
       "\n",
       "    .dataframe thead th {\n",
       "        text-align: right;\n",
       "    }\n",
       "</style>\n",
       "<table border=\"1\" class=\"dataframe\">\n",
       "  <thead>\n",
       "    <tr style=\"text-align: right;\">\n",
       "      <th></th>\n",
       "      <th>article</th>\n",
       "      <th>pmcid</th>\n",
       "      <th>url</th>\n",
       "      <th>retraction_reason</th>\n",
       "    </tr>\n",
       "  </thead>\n",
       "  <tbody>\n",
       "    <tr>\n",
       "      <th>0</th>\n",
       "      <td>MED36658737</td>\n",
       "      <td></td>\n",
       "      <td>https://europepmc.org/article/MED/36658737</td>\n",
       "      <td></td>\n",
       "    </tr>\n",
       "    <tr>\n",
       "      <th>1</th>\n",
       "      <td>MED36961293</td>\n",
       "      <td>PMC10054288</td>\n",
       "      <td>https://europepmc.org/article/MED/36961293</td>\n",
       "      <td></td>\n",
       "    </tr>\n",
       "    <tr>\n",
       "      <th>2</th>\n",
       "      <td>MED36658746</td>\n",
       "      <td></td>\n",
       "      <td>https://europepmc.org/article/MED/36658746</td>\n",
       "      <td></td>\n",
       "    </tr>\n",
       "    <tr>\n",
       "      <th>3</th>\n",
       "      <td>MED37077123</td>\n",
       "      <td></td>\n",
       "      <td>https://europepmc.org/article/MED/37077123</td>\n",
       "      <td></td>\n",
       "    </tr>\n",
       "    <tr>\n",
       "      <th>4</th>\n",
       "      <td>MED37000220</td>\n",
       "      <td></td>\n",
       "      <td>https://europepmc.org/article/MED/37000220</td>\n",
       "      <td></td>\n",
       "    </tr>\n",
       "    <tr>\n",
       "      <th>...</th>\n",
       "      <td>...</td>\n",
       "      <td>...</td>\n",
       "      <td>...</td>\n",
       "      <td>...</td>\n",
       "    </tr>\n",
       "    <tr>\n",
       "      <th>14494</th>\n",
       "      <td>MED1079321</td>\n",
       "      <td></td>\n",
       "      <td>https://europepmc.org/article/MED/1079321</td>\n",
       "      <td></td>\n",
       "    </tr>\n",
       "    <tr>\n",
       "      <th>14495</th>\n",
       "      <td>MED1088818</td>\n",
       "      <td></td>\n",
       "      <td>https://europepmc.org/article/MED/1088818</td>\n",
       "      <td></td>\n",
       "    </tr>\n",
       "    <tr>\n",
       "      <th>14496</th>\n",
       "      <td>MED1203488</td>\n",
       "      <td></td>\n",
       "      <td>https://europepmc.org/article/MED/1203488</td>\n",
       "      <td></td>\n",
       "    </tr>\n",
       "    <tr>\n",
       "      <th>14497</th>\n",
       "      <td>MED5409980</td>\n",
       "      <td></td>\n",
       "      <td>https://europepmc.org/article/MED/5409980</td>\n",
       "      <td></td>\n",
       "    </tr>\n",
       "    <tr>\n",
       "      <th>14498</th>\n",
       "      <td>MED5644050</td>\n",
       "      <td></td>\n",
       "      <td>https://europepmc.org/article/MED/5644050</td>\n",
       "      <td></td>\n",
       "    </tr>\n",
       "  </tbody>\n",
       "</table>\n",
       "<p>14499 rows × 4 columns</p>\n",
       "</div>"
      ],
      "text/plain": [
       "           article        pmcid                                         url  \\\n",
       "0      MED36658737               https://europepmc.org/article/MED/36658737   \n",
       "1      MED36961293  PMC10054288  https://europepmc.org/article/MED/36961293   \n",
       "2      MED36658746               https://europepmc.org/article/MED/36658746   \n",
       "3      MED37077123               https://europepmc.org/article/MED/37077123   \n",
       "4      MED37000220               https://europepmc.org/article/MED/37000220   \n",
       "...            ...          ...                                         ...   \n",
       "14494   MED1079321                https://europepmc.org/article/MED/1079321   \n",
       "14495   MED1088818                https://europepmc.org/article/MED/1088818   \n",
       "14496   MED1203488                https://europepmc.org/article/MED/1203488   \n",
       "14497   MED5409980                https://europepmc.org/article/MED/5409980   \n",
       "14498   MED5644050                https://europepmc.org/article/MED/5644050   \n",
       "\n",
       "      retraction_reason  \n",
       "0                        \n",
       "1                        \n",
       "2                        \n",
       "3                        \n",
       "4                        \n",
       "...                 ...  \n",
       "14494                    \n",
       "14495                    \n",
       "14496                    \n",
       "14497                    \n",
       "14498                    \n",
       "\n",
       "[14499 rows x 4 columns]"
      ]
     },
     "execution_count": 2,
     "metadata": {},
     "output_type": "execute_result"
    }
   ],
   "source": [
    "filepath = \"../data/retractable.json\"\n",
    "with open(filepath, 'r') as fp:\n",
    "    data = json.load(fp)\n",
    "\n",
    "df = pd.DataFrame.from_dict(data[\"retracted_articles\"])\n",
    "df"
   ]
  },
  {
   "attachments": {},
   "cell_type": "markdown",
   "metadata": {},
   "source": [
    "How many articles have a retraction notice?"
   ]
  },
  {
   "cell_type": "code",
   "execution_count": 3,
   "metadata": {},
   "outputs": [
    {
     "name": "stdout",
     "output_type": "stream",
     "text": [
      "46.98% of retracted articles in Europe PMC articles (6811 out of 14499) have an associated retraction notice PMC id from which to extract retraction reasons.\n",
      "5.46% of retraction reasons identified for retracted articles in Europe PMC articles (791 out of 14499).\n"
     ]
    }
   ],
   "source": [
    "retract_notice = df[df['pmcid'] != \"\"]\n",
    "len_notice = len(retract_notice)\n",
    "len_data = len(df)\n",
    "percentage_notice = round(len_notice/len_data*100, 2)\n",
    "retrieved = df[df['retraction_reason'] != \"\"]\n",
    "percentage_retrieved = round(len(retrieved)/len_data*100,2)\n",
    "print(f\"{percentage_notice}% of retracted articles in Europe PMC articles ({len_notice} out of {len_data}) have an associated retraction notice PMC id from which to extract retraction reasons.\")\n",
    "print(f\"{percentage_retrieved}% of retraction reasons identified for retracted articles in Europe PMC articles ({len(retrieved)} out of {len_data}).\")"
   ]
  },
  {
   "attachments": {},
   "cell_type": "markdown",
   "metadata": {},
   "source": [
    "Which retraction reasons?"
   ]
  }
 ],
 "metadata": {
  "kernelspec": {
   "display_name": "base",
   "language": "python",
   "name": "python3"
  },
  "language_info": {
   "codemirror_mode": {
    "name": "ipython",
    "version": 3
   },
   "file_extension": ".py",
   "mimetype": "text/x-python",
   "name": "python",
   "nbconvert_exporter": "python",
   "pygments_lexer": "ipython3",
   "version": "3.9.13"
  },
  "orig_nbformat": 4,
  "vscode": {
   "interpreter": {
    "hash": "267a425285626f162e8dbac0e72a3103fc15fe1856529c1140c5b196b5352764"
   }
  }
 },
 "nbformat": 4,
 "nbformat_minor": 2
}
