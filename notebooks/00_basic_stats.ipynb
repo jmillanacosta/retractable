{
 "cells": [
  {
   "attachments": {},
   "cell_type": "markdown",
   "metadata": {},
   "source": [
    "# Basic Statistics \n",
    "\n",
    "This notebook looks at the most common retraction reasons and generates figures."
   ]
  },
  {
   "cell_type": "code",
   "execution_count": 1,
   "metadata": {},
   "outputs": [],
   "source": [
    "import pandas as pd\n",
    "import json\n",
    "import yaml\n",
    "import numpy as np"
   ]
  },
  {
   "cell_type": "code",
   "execution_count": 4,
   "metadata": {},
   "outputs": [],
   "source": [
    "filepath = \"../data/retractable.json\"\n",
    "with open(filepath, 'r') as fp:\n",
    "    data = json.load(fp)\n",
    "\n",
    "df = pd.DataFrame.from_dict(data[\"retracted_articles\"])\n",
    "# To html\n",
    "df.to_html(\"../docs/retractable_data.html\")"
   ]
  },
  {
   "attachments": {},
   "cell_type": "markdown",
   "metadata": {},
   "source": [
    "How many articles have a retraction notice?"
   ]
  },
  {
   "cell_type": "code",
   "execution_count": 3,
   "metadata": {},
   "outputs": [
    {
     "name": "stdout",
     "output_type": "stream",
     "text": [
      "46.98% of retracted articles in Europe PMC articles (6811 out of 14499) have an associated retraction notice PMC id from which to extract retraction reasons.\n",
      "35.37% of retraction reasons identified for retracted articles in Europe PMC articles (5128 out of 6811).\n"
     ]
    }
   ],
   "source": [
    "retract_notice = df[df['pmcid'] != \"\"]\n",
    "len_notice = len(retract_notice)\n",
    "len_data = len(df)\n",
    "percentage_notice = round(len_notice/len_data*100, 2)\n",
    "retrieved = df[df['retraction_reason'] != \"\"]\n",
    "percentage_retrieved = round(len(retrieved)/len_data*100,2)\n",
    "print(f\"{percentage_notice}% of retracted articles in Europe PMC articles ({len_notice} out of {len_data}) have an associated retraction notice PMC id from which to extract retraction reasons.\")\n",
    "print(f\"{percentage_retrieved}% of retraction reasons identified for retracted articles in Europe PMC articles ({len(retrieved)} out of {len_notice}).\")"
   ]
  },
  {
   "attachments": {},
   "cell_type": "markdown",
   "metadata": {},
   "source": [
    "Which retraction reasons?"
   ]
  }
 ],
 "metadata": {
  "kernelspec": {
   "display_name": "base",
   "language": "python",
   "name": "python3"
  },
  "language_info": {
   "codemirror_mode": {
    "name": "ipython",
    "version": 3
   },
   "file_extension": ".py",
   "mimetype": "text/x-python",
   "name": "python",
   "nbconvert_exporter": "python",
   "pygments_lexer": "ipython3",
   "version": "3.9.13"
  },
  "orig_nbformat": 4,
  "vscode": {
   "interpreter": {
    "hash": "267a425285626f162e8dbac0e72a3103fc15fe1856529c1140c5b196b5352764"
   }
  }
 },
 "nbformat": 4,
 "nbformat_minor": 2
}
