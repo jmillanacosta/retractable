{
 "cells": [
  {
   "attachments": {},
   "cell_type": "markdown",
   "metadata": {},
   "source": [
    "# Basic Statistics \n",
    "\n",
    "This notebook looks at the most common retraction reasons and generates figures."
   ]
  },
  {
   "cell_type": "code",
   "execution_count": 6,
   "metadata": {},
   "outputs": [],
   "source": [
    "import pandas as pd\n",
    "import json\n",
    "import yaml"
   ]
  },
  {
   "cell_type": "code",
   "execution_count": 7,
   "metadata": {},
   "outputs": [
    {
     "data": {
      "text/html": [
       "<div>\n",
       "<style scoped>\n",
       "    .dataframe tbody tr th:only-of-type {\n",
       "        vertical-align: middle;\n",
       "    }\n",
       "\n",
       "    .dataframe tbody tr th {\n",
       "        vertical-align: top;\n",
       "    }\n",
       "\n",
       "    .dataframe thead th {\n",
       "        text-align: right;\n",
       "    }\n",
       "</style>\n",
       "<table border=\"1\" class=\"dataframe\">\n",
       "  <thead>\n",
       "    <tr style=\"text-align: right;\">\n",
       "      <th></th>\n",
       "      <th>article</th>\n",
       "      <th>pmcid</th>\n",
       "      <th>url</th>\n",
       "      <th>retraction_reason</th>\n",
       "    </tr>\n",
       "  </thead>\n",
       "  <tbody>\n",
       "    <tr>\n",
       "      <th>0</th>\n",
       "      <td>MED36658737</td>\n",
       "      <td></td>\n",
       "      <td>https://europepmc.org/article/MED/36658737</td>\n",
       "      <td></td>\n",
       "    </tr>\n",
       "    <tr>\n",
       "      <th>1</th>\n",
       "      <td>MED36961293</td>\n",
       "      <td>PMC10054288</td>\n",
       "      <td>https://europepmc.org/article/MED/36961293</td>\n",
       "      <td>{(.*?retracted.*[.])=We, the Editors and Publi...</td>\n",
       "    </tr>\n",
       "    <tr>\n",
       "      <th>2</th>\n",
       "      <td>MED36658746</td>\n",
       "      <td></td>\n",
       "      <td>https://europepmc.org/article/MED/36658746</td>\n",
       "      <td></td>\n",
       "    </tr>\n",
       "    <tr>\n",
       "      <th>3</th>\n",
       "      <td>MED37000220</td>\n",
       "      <td></td>\n",
       "      <td>https://europepmc.org/article/MED/37000220</td>\n",
       "      <td></td>\n",
       "    </tr>\n",
       "    <tr>\n",
       "      <th>4</th>\n",
       "      <td>MED36823264</td>\n",
       "      <td></td>\n",
       "      <td>https://europepmc.org/article/MED/36823264</td>\n",
       "      <td></td>\n",
       "    </tr>\n",
       "    <tr>\n",
       "      <th>...</th>\n",
       "      <td>...</td>\n",
       "      <td>...</td>\n",
       "      <td>...</td>\n",
       "      <td>...</td>\n",
       "    </tr>\n",
       "    <tr>\n",
       "      <th>14436</th>\n",
       "      <td>MED1079321</td>\n",
       "      <td></td>\n",
       "      <td>https://europepmc.org/article/MED/1079321</td>\n",
       "      <td></td>\n",
       "    </tr>\n",
       "    <tr>\n",
       "      <th>14437</th>\n",
       "      <td>MED1088818</td>\n",
       "      <td></td>\n",
       "      <td>https://europepmc.org/article/MED/1088818</td>\n",
       "      <td></td>\n",
       "    </tr>\n",
       "    <tr>\n",
       "      <th>14438</th>\n",
       "      <td>MED1203488</td>\n",
       "      <td></td>\n",
       "      <td>https://europepmc.org/article/MED/1203488</td>\n",
       "      <td></td>\n",
       "    </tr>\n",
       "    <tr>\n",
       "      <th>14439</th>\n",
       "      <td>MED5409980</td>\n",
       "      <td></td>\n",
       "      <td>https://europepmc.org/article/MED/5409980</td>\n",
       "      <td></td>\n",
       "    </tr>\n",
       "    <tr>\n",
       "      <th>14440</th>\n",
       "      <td>MED5644050</td>\n",
       "      <td></td>\n",
       "      <td>https://europepmc.org/article/MED/5644050</td>\n",
       "      <td></td>\n",
       "    </tr>\n",
       "  </tbody>\n",
       "</table>\n",
       "<p>14441 rows × 4 columns</p>\n",
       "</div>"
      ],
      "text/plain": [
       "           article        pmcid                                         url  \\\n",
       "0      MED36658737               https://europepmc.org/article/MED/36658737   \n",
       "1      MED36961293  PMC10054288  https://europepmc.org/article/MED/36961293   \n",
       "2      MED36658746               https://europepmc.org/article/MED/36658746   \n",
       "3      MED37000220               https://europepmc.org/article/MED/37000220   \n",
       "4      MED36823264               https://europepmc.org/article/MED/36823264   \n",
       "...            ...          ...                                         ...   \n",
       "14436   MED1079321                https://europepmc.org/article/MED/1079321   \n",
       "14437   MED1088818                https://europepmc.org/article/MED/1088818   \n",
       "14438   MED1203488                https://europepmc.org/article/MED/1203488   \n",
       "14439   MED5409980                https://europepmc.org/article/MED/5409980   \n",
       "14440   MED5644050                https://europepmc.org/article/MED/5644050   \n",
       "\n",
       "                                       retraction_reason  \n",
       "0                                                         \n",
       "1      {(.*?retracted.*[.])=We, the Editors and Publi...  \n",
       "2                                                         \n",
       "3                                                         \n",
       "4                                                         \n",
       "...                                                  ...  \n",
       "14436                                                     \n",
       "14437                                                     \n",
       "14438                                                     \n",
       "14439                                                     \n",
       "14440                                                     \n",
       "\n",
       "[14441 rows x 4 columns]"
      ]
     },
     "execution_count": 7,
     "metadata": {},
     "output_type": "execute_result"
    }
   ],
   "source": [
    "filepath = \"../data/retractable.json\"\n",
    "with open(filepath, 'r') as fp:\n",
    "    data = json.load(fp)\n",
    "\n",
    "df = pd.DataFrame.from_dict(data[\"retracted_articles\"])\n",
    "df"
   ]
  },
  {
   "attachments": {},
   "cell_type": "markdown",
   "metadata": {},
   "source": [
    "How many articles have a retraction notice?"
   ]
  },
  {
   "cell_type": "code",
   "execution_count": 9,
   "metadata": {},
   "outputs": [
    {
     "name": "stdout",
     "output_type": "stream",
     "text": [
      "32.03% of Europe PMC articles (4625 out of 14441) have a retraction notice from which to extract retraction reasons.\n"
     ]
    }
   ],
   "source": [
    "retract_notice = df[df['retraction_reason'] != \"\"]\n",
    "len_retracted = len(retract_notice)\n",
    "len_data = len(df)\n",
    "percentage = round(len_retracted/len_data*100, 2)\n",
    "print(f\"{percentage}% of Europe PMC articles ({len_retracted} out of {len_data}) have a retraction notice from which to extract retraction reasons.\")"
   ]
  },
  {
   "attachments": {},
   "cell_type": "markdown",
   "metadata": {},
   "source": [
    "Which retraction reasons?"
   ]
  }
 ],
 "metadata": {
  "kernelspec": {
   "display_name": "base",
   "language": "python",
   "name": "python3"
  },
  "language_info": {
   "codemirror_mode": {
    "name": "ipython",
    "version": 3
   },
   "file_extension": ".py",
   "mimetype": "text/x-python",
   "name": "python",
   "nbconvert_exporter": "python",
   "pygments_lexer": "ipython3",
   "version": "3.9.13 (main, Aug 25 2022, 23:26:10) \n[GCC 11.2.0]"
  },
  "orig_nbformat": 4,
  "vscode": {
   "interpreter": {
    "hash": "267a425285626f162e8dbac0e72a3103fc15fe1856529c1140c5b196b5352764"
   }
  }
 },
 "nbformat": 4,
 "nbformat_minor": 2
}
