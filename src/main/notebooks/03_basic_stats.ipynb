{
 "cells": [
  {
   "cell_type": "code",
   "execution_count": null,
   "metadata": {},
   "outputs": [],
   "source": [
    "import pandas as pd\n",
    "import json\n",
    "import yaml\n",
    "import numpy as np\n",
    "import requests\n"
   ]
  },
  {
   "cell_type": "code",
   "execution_count": null,
   "metadata": {},
   "outputs": [],
   "source": [
    "retract_notice = df[df['pmcid'] != \"\"]\n",
    "len_notice = len(retract_notice)\n",
    "len_data = len(df)\n",
    "percentage_notice = round(len_notice/len_data*100, 2)\n",
    "retrieved = df[df['retraction_reason'] != \"\"]\n",
    "percentage_retrieved = round(len(retrieved)/len_data*100,2)\n",
    "print(f\"{percentage_notice}% of retracted articles in Europe PMC articles ({len_notice} out of {len_data}) have an associated retraction notice PMC id from which to extract retraction reasons.\")\n",
    "print(f\"{percentage_retrieved}% of retraction reasons identified for retracted articles in Europe PMC articles ({len(retrieved)} out of {len_notice}).\")"
   ]
  }
 ],
 "metadata": {
  "language_info": {
   "name": "python"
  },
  "orig_nbformat": 4
 },
 "nbformat": 4,
 "nbformat_minor": 2
}
