{
 "cells": [
  {
   "attachments": {},
   "cell_type": "markdown",
   "metadata": {},
   "source": [
    "# Get data\n",
    "\n",
    "This notebook gets the data\n"
   ]
  },
  {
   "cell_type": "code",
   "execution_count": 1,
   "metadata": {},
   "outputs": [],
   "source": [
    "import pandas as pd\n",
    "import json\n",
    "import yaml\n",
    "import numpy as np\n",
    "import requests\n",
    "import re"
   ]
  },
  {
   "attachments": {},
   "cell_type": "markdown",
   "metadata": {},
   "source": [
    "## 1. EuropePMC\n",
    "\n",
    "(Explain)"
   ]
  },
  {
   "cell_type": "code",
   "execution_count": 2,
   "metadata": {},
   "outputs": [],
   "source": [
    "# Define the query parameters\n",
    "USER_AGENT = \"Mozilla/5.0\"\n",
    "page_size = 1000\n",
    "cursor_mark = '*'\n",
    "format_type = 'json'\n",
    "base_url_text = \"https://www.ebi.ac.uk/europepmc/webservices/rest/{}/fullTextXML\""
   ]
  },
  {
   "cell_type": "code",
   "execution_count": 3,
   "metadata": {},
   "outputs": [
    {
     "name": "stdout",
     "output_type": "stream",
     "text": [
      "Initial request to Europe PMC to get the retracted paper JSON\n",
      "Will need to perform 15 requests.\n",
      "Request 1 of 15: https://www.ebi.ac.uk/europepmc/webservices/rest/search?query=PUB_TYPE%3A%22retraction%20of%20publication%22&resultType=idlist&cursorMark=AoIIQMGRICg0NzYzMTA2Mw==&pageSize=1000&format=json\n",
      "Request 2 of 15: https://www.ebi.ac.uk/europepmc/webservices/rest/search?query=PUB_TYPE%3A%22retraction%20of%20publication%22&resultType=idlist&cursorMark=AoIIQGaFvCg0NzM2MjYwOQ==&pageSize=1000&format=json\n",
      "Request 3 of 15: https://www.ebi.ac.uk/europepmc/webservices/rest/search?query=PUB_TYPE%3A%22retraction%20of%20publication%22&resultType=idlist&cursorMark=AoIIQESciig0NjI5NzkzOQ==&pageSize=1000&format=json\n",
      "Request 4 of 15: https://www.ebi.ac.uk/europepmc/webservices/rest/search?query=PUB_TYPE%3A%22retraction%20of%20publication%22&resultType=idlist&cursorMark=AoIIQB76bCg0NDg0MDYwMQ==&pageSize=1000&format=json\n",
      "Request 5 of 15: https://www.ebi.ac.uk/europepmc/webservices/rest/search?query=PUB_TYPE%3A%22retraction%20of%20publication%22&resultType=idlist&cursorMark=AoIIQA1HbCg0MzE4MTU4OQ==&pageSize=1000&format=json\n",
      "Request 6 of 15: https://www.ebi.ac.uk/europepmc/webservices/rest/search?query=PUB_TYPE%3A%22retraction%20of%20publication%22&resultType=idlist&cursorMark=AoIIP/iSGCg0NTY5MzAzMQ==&pageSize=1000&format=json\n",
      "Request 7 of 15: https://www.ebi.ac.uk/europepmc/webservices/rest/search?query=PUB_TYPE%3A%22retraction%20of%20publication%22&resultType=idlist&cursorMark=AoIIP8N/yCg0MjI5Nzk1Nw==&pageSize=1000&format=json\n",
      "Request 8 of 15: https://www.ebi.ac.uk/europepmc/webservices/rest/search?query=PUB_TYPE%3A%22retraction%20of%20publication%22&resultType=idlist&cursorMark=AoIIP6sAyig0MDg3ODE2Mg==&pageSize=1000&format=json\n",
      "Request 9 of 15: https://www.ebi.ac.uk/europepmc/webservices/rest/search?query=PUB_TYPE%3A%22retraction%20of%20publication%22&resultType=idlist&cursorMark=AoIIP41AnigzODk4OTM0Ng==&pageSize=1000&format=json\n",
      "Request 10 of 15: https://www.ebi.ac.uk/europepmc/webservices/rest/search?query=PUB_TYPE%3A%22retraction%20of%20publication%22&resultType=idlist&cursorMark=AoIIP3ZS5igzNDgyNzU3MA==&pageSize=1000&format=json\n",
      "Request 11 of 15: https://www.ebi.ac.uk/europepmc/webservices/rest/search?query=PUB_TYPE%3A%22retraction%20of%20publication%22&resultType=idlist&cursorMark=AoIIP2BVrSgzNjQwODA5Mg==&pageSize=1000&format=json\n",
      "Request 12 of 15: https://www.ebi.ac.uk/europepmc/webservices/rest/search?query=PUB_TYPE%3A%22retraction%20of%20publication%22&resultType=idlist&cursorMark=AoIIP0yGnCgzNTMzNTU0Ng==&pageSize=1000&format=json\n",
      "Request 13 of 15: https://www.ebi.ac.uk/europepmc/webservices/rest/search?query=PUB_TYPE%3A%22retraction%20of%20publication%22&resultType=idlist&cursorMark=AoIIPzNHKygzMDMxNDgyOA==&pageSize=1000&format=json\n",
      "Request 14 of 15: https://www.ebi.ac.uk/europepmc/webservices/rest/search?query=PUB_TYPE%3A%22retraction%20of%20publication%22&resultType=idlist&cursorMark=AoIIPxd6kigyODUyODQ4OA==&pageSize=1000&format=json\n",
      "Request 15 of 15: https://www.ebi.ac.uk/europepmc/webservices/rest/search?query=PUB_TYPE%3A%22retraction%20of%20publication%22&resultType=idlist&cursorMark=AoIIPugLhSgxNjg5MDA5NQ==&pageSize=1000&format=json\n"
     ]
    }
   ],
   "source": [
    "import requests\n",
    "\n",
    "# Initialize the list to store retracted articles\n",
    "retracted_articles_ePMC = []\n",
    "\n",
    "print(\"Initial request to Europe PMC to get the retracted paper JSON\")\n",
    "# Make the initial request to get the total number of results\n",
    "url = f'https://www.ebi.ac.uk/europepmc/webservices/rest/search?query=PUB_TYPE%3A%22retraction%20of%20publication%22&resultType=idlist&cursorMark={cursor_mark}&pageSize=1&format={format_type}'\n",
    "\n",
    "try:\n",
    "    response = requests.get(url).json()\n",
    "    total = response['hitCount']\n",
    "\n",
    "    # Calculate the number of requests needed to retrieve all results\n",
    "    num_requests = (total + page_size - 1) // page_size\n",
    "    print(f\"Will need to perform {num_requests} requests.\")\n",
    "\n",
    "    # Iterate through each page and append the results to the list\n",
    "    for i in range(num_requests):\n",
    "        cursor_mark = response['nextCursorMark']\n",
    "\n",
    "        if cursor_mark is None:\n",
    "            break\n",
    "        url = f'https://www.ebi.ac.uk/europepmc/webservices/rest/search?query=PUB_TYPE%3A%22retraction%20of%20publication%22&resultType=idlist&cursorMark={cursor_mark}&pageSize={page_size}&format={format_type}'\n",
    "        print(f\"Request {i + 1} of {num_requests}: {url}\")\n",
    "\n",
    "        try:\n",
    "            response = requests.get(url).json()\n",
    "            retracted_articles_ePMC.extend(response['resultList']['result'])\n",
    "        except Exception as e:\n",
    "            #print(\"An error occurred: \" + str(e))\n",
    "            pass\n",
    "\n",
    "except Exception as e:\n",
    "    #print(\"An error occurred: \" + str(e))\n",
    "    pass\n"
   ]
  },
  {
   "attachments": {},
   "cell_type": "markdown",
   "metadata": {},
   "source": [
    "Get full text when available"
   ]
  },
  {
   "cell_type": "code",
   "execution_count": 4,
   "metadata": {},
   "outputs": [],
   "source": [
    "for i in range(len(retracted_articles_ePMC)):\n",
    "    entry = retracted_articles_ePMC[i]\n",
    "    if \"fullTextIdList\" in entry.keys():\n",
    "        id = entry[\"fullTextIdList\"][\"fullTextId\"][0]\n",
    "        url = base_url_text.format(id)\n",
    "        retracted_articles_ePMC[i][\"fullTextURL\"] = url\n",
    "        # Request text\n",
    "        response = requests.get(url, headers={\"User-Agent\": USER_AGENT})\n",
    "        response_code = response.status_code\n",
    "\n",
    "        try:\n",
    "            if response_code < 200 or response_code >= 300:\n",
    "                #print(f\"Failed to retrieve data for {id}. Response code: \" + str(response_code))\n",
    "                # Sometimes an ID not available through the REST API is available as a normal link, e.g., https://europepmc.org/article/pmc/PMC10073366 ... Seems to be the case for several ids. Shame!\n",
    "                pass\n",
    "            else:\n",
    "                response_text = response.text\n",
    "                body_content = \"\"\n",
    "                regex = \"<body(.*?)</body\"\n",
    "                pattern = re.compile(regex, re.DOTALL)\n",
    "                matcher = pattern.search(response_text)\n",
    "                if matcher:\n",
    "                    body_content = matcher.group(1)\n",
    "\n",
    "                    cleaned_text = re.sub(\"<.*?>\", \"\", body_content)  # remove  all XML tags\n",
    "                    cleaned_text = re.sub(\"&[#\\\\w]+?;\", \"\", cleaned_text)  # remove HTML entities\n",
    "                    cleaned_text = re.sub(\"\\\\s+\", \" \", cleaned_text)  # replace multiple whitespaces with a single space\n",
    "                    cleaned_text = cleaned_text.replace(\">\", \"\") # left from the body tag if <body>\n",
    "                    cleaned_text = cleaned_text.strip()  #  remove leading/trailing whitespaces\n",
    "                    retracted_articles_ePMC[i][\"fullText\"] = cleaned_text\n",
    "\n",
    "        except Exception as e:\n",
    "            #print(f\"An error occurred for {id}: \" + str(e))\n",
    "            pass\n",
    "\n"
   ]
  },
  {
   "cell_type": "code",
   "execution_count": 5,
   "metadata": {},
   "outputs": [],
   "source": [
    "# Create the final JSON object and save to file\n",
    "output_json = json.dumps(retracted_articles_ePMC)\n",
    "with open(\"../../../data/ePMC/retracts.json\", \"w\") as f:\n",
    "    f.write(output_json)"
   ]
  },
  {
   "cell_type": "code",
   "execution_count": 6,
   "metadata": {},
   "outputs": [
    {
     "name": "stdout",
     "output_type": "stream",
     "text": [
      "Python implementation: CPython\n",
      "Python version       : 3.9.13\n",
      "IPython version      : 8.4.0\n",
      "\n",
      "Compiler    : GCC 11.2.0\n",
      "OS          : Linux\n",
      "Release     : 5.19.0-41-generic\n",
      "Machine     : x86_64\n",
      "Processor   : x86_64\n",
      "CPU cores   : 8\n",
      "Architecture: 64bit\n",
      "\n"
     ]
    }
   ],
   "source": [
    "%load_ext watermark\n",
    "%watermark -v -m "
   ]
  }
 ],
 "metadata": {
  "kernelspec": {
   "display_name": "base",
   "language": "python",
   "name": "python3"
  },
  "language_info": {
   "codemirror_mode": {
    "name": "ipython",
    "version": 3
   },
   "file_extension": ".py",
   "mimetype": "text/x-python",
   "name": "python",
   "nbconvert_exporter": "python",
   "pygments_lexer": "ipython3",
   "version": "3.9.13"
  },
  "orig_nbformat": 4,
  "vscode": {
   "interpreter": {
    "hash": "267a425285626f162e8dbac0e72a3103fc15fe1856529c1140c5b196b5352764"
   }
  }
 },
 "nbformat": 4,
 "nbformat_minor": 2
}
